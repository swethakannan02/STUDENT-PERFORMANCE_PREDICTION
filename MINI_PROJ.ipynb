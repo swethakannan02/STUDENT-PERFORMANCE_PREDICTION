{
  "nbformat": 4,
  "nbformat_minor": 0,
  "metadata": {
    "colab": {
      "provenance": [],
      "authorship_tag": "ABX9TyNSLex+BFIxp2kkC2rGmN1f",
      "include_colab_link": true
    },
    "kernelspec": {
      "name": "python3",
      "display_name": "Python 3"
    },
    "language_info": {
      "name": "python"
    }
  },
  "cells": [
    {
      "cell_type": "markdown",
      "metadata": {
        "id": "view-in-github",
        "colab_type": "text"
      },
      "source": [
        "<a href=\"https://colab.research.google.com/github/swethakannan02/STUDENT-PERFORMANCE_PREDICTION/blob/main/MINI_PROJ.ipynb\" target=\"_parent\"><img src=\"https://colab.research.google.com/assets/colab-badge.svg\" alt=\"Open In Colab\"/></a>"
      ]
    },
    {
      "cell_type": "markdown",
      "source": [
        "### ***EFFECT OF GADGET USAGE WITH ACADEMIC PERFORMANCE***"
      ],
      "metadata": {
        "id": "TDM1dgp3NX7W"
      }
    },
    {
      "cell_type": "markdown",
      "source": [
        "LOGISTIC REGRESSION"
      ],
      "metadata": {
        "id": "eGjn-PAcNnLJ"
      }
    },
    {
      "cell_type": "code",
      "execution_count": null,
      "metadata": {
        "id": "_OVPT0HSUQvp"
      },
      "outputs": [],
      "source": [
        "import numpy as np\n",
        "import pandas as pd\n",
        "import matplotlib.pyplot as plt\n",
        "import seaborn as sns\n",
        "from sklearn.preprocessing import StandardScaler\n",
        "import xgboost as xgb"
      ]
    },
    {
      "cell_type": "code",
      "source": [
        "data=pd.read_csv('/content/DATASET FINAL.csv')"
      ],
      "metadata": {
        "id": "TMq4UsAeUmxZ"
      },
      "execution_count": null,
      "outputs": []
    },
    {
      "cell_type": "code",
      "source": [
        "data"
      ],
      "metadata": {
        "colab": {
          "base_uri": "https://localhost:8080/",
          "height": 659
        },
        "id": "2eBX4_ITUtRD",
        "outputId": "7e09afaa-cba6-4b5d-dcb8-4eb1e7c19b9a"
      },
      "execution_count": null,
      "outputs": [
        {
          "output_type": "execute_result",
          "data": {
            "text/plain": [
              "     stu_id    AVERAGE_TIME                   GADGETS_USED      YEAR  \\\n",
              "0         1          0-3hrs   Mobile Phones, Laptops, Tabs  2nd year   \n",
              "1         2          3-6hrs   Mobile Phones, Laptops, Tabs  2nd year   \n",
              "2         3  More than 9hrs         Mobile Phones, Laptops  2nd year   \n",
              "3         4  More than 9hrs         Mobile Phones, Laptops  2nd year   \n",
              "4         5          6-9hrs         Mobile Phones, Laptops  2nd year   \n",
              "..      ...             ...                            ...       ...   \n",
              "185     186  More than 9hrs  Mobile Phones, Laptops, Other  2nd year   \n",
              "186     187          0-3hrs         Mobile Phones, Laptops  2nd year   \n",
              "187     188          0-3hrs         Mobile Phones, Laptops  2nd year   \n",
              "188     189          3-6hrs  Mobile Phones, Laptops, Other  2nd year   \n",
              "189     190  More than 9hrs         Mobile phones, Laptops  3rd year   \n",
              "\n",
              "            CGPA AFFECT ACADEMICS                             PURPOSE     SEX  \\\n",
              "0    9 - 10 CGPA               no                            Academic  Female   \n",
              "1     6 - 8 CGPA               no                            Academic  Female   \n",
              "2    less than 6              yes  Pass Time Activities(Movies,games)  Female   \n",
              "3    less than 6              yes                        social Media  Female   \n",
              "4     6 - 8 CGPA              yes  Pass Time Activities(Movies,games)  Female   \n",
              "..           ...              ...                                 ...     ...   \n",
              "185  less than 6              yes  Pass Time Activities(Movies,games)  Female   \n",
              "186  9 - 10 CGPA               no                        social Media  Female   \n",
              "187   6 - 8 CGPA               no                            Academic  Female   \n",
              "188  9 - 10 CGPA              yes                        social Media  Female   \n",
              "189  less than 6              yes                            Academic    Male   \n",
              "\n",
              "    TRAVEL TIME EXTRA_COURSES  \n",
              "0         0-1hr           Yes  \n",
              "1         0-1hr           Yes  \n",
              "2         0-1hr            No  \n",
              "3          2hrs           Yes  \n",
              "4         0-1hr           Yes  \n",
              "..          ...           ...  \n",
              "185       0-1hr           Yes  \n",
              "186       0-1hr           Yes  \n",
              "187   Hosteller            No  \n",
              "188        2hrs            No  \n",
              "189   Hosteller            No  \n",
              "\n",
              "[190 rows x 10 columns]"
            ],
            "text/html": [
              "\n",
              "  <div id=\"df-9843230d-2192-4ab9-88ae-98e1e5666801\">\n",
              "    <div class=\"colab-df-container\">\n",
              "      <div>\n",
              "<style scoped>\n",
              "    .dataframe tbody tr th:only-of-type {\n",
              "        vertical-align: middle;\n",
              "    }\n",
              "\n",
              "    .dataframe tbody tr th {\n",
              "        vertical-align: top;\n",
              "    }\n",
              "\n",
              "    .dataframe thead th {\n",
              "        text-align: right;\n",
              "    }\n",
              "</style>\n",
              "<table border=\"1\" class=\"dataframe\">\n",
              "  <thead>\n",
              "    <tr style=\"text-align: right;\">\n",
              "      <th></th>\n",
              "      <th>stu_id</th>\n",
              "      <th>AVERAGE_TIME</th>\n",
              "      <th>GADGETS_USED</th>\n",
              "      <th>YEAR</th>\n",
              "      <th>CGPA</th>\n",
              "      <th>AFFECT ACADEMICS</th>\n",
              "      <th>PURPOSE</th>\n",
              "      <th>SEX</th>\n",
              "      <th>TRAVEL TIME</th>\n",
              "      <th>EXTRA_COURSES</th>\n",
              "    </tr>\n",
              "  </thead>\n",
              "  <tbody>\n",
              "    <tr>\n",
              "      <th>0</th>\n",
              "      <td>1</td>\n",
              "      <td>0-3hrs</td>\n",
              "      <td>Mobile Phones, Laptops, Tabs</td>\n",
              "      <td>2nd year</td>\n",
              "      <td>9 - 10 CGPA</td>\n",
              "      <td>no</td>\n",
              "      <td>Academic</td>\n",
              "      <td>Female</td>\n",
              "      <td>0-1hr</td>\n",
              "      <td>Yes</td>\n",
              "    </tr>\n",
              "    <tr>\n",
              "      <th>1</th>\n",
              "      <td>2</td>\n",
              "      <td>3-6hrs</td>\n",
              "      <td>Mobile Phones, Laptops, Tabs</td>\n",
              "      <td>2nd year</td>\n",
              "      <td>6 - 8 CGPA</td>\n",
              "      <td>no</td>\n",
              "      <td>Academic</td>\n",
              "      <td>Female</td>\n",
              "      <td>0-1hr</td>\n",
              "      <td>Yes</td>\n",
              "    </tr>\n",
              "    <tr>\n",
              "      <th>2</th>\n",
              "      <td>3</td>\n",
              "      <td>More than 9hrs</td>\n",
              "      <td>Mobile Phones, Laptops</td>\n",
              "      <td>2nd year</td>\n",
              "      <td>less than 6</td>\n",
              "      <td>yes</td>\n",
              "      <td>Pass Time Activities(Movies,games)</td>\n",
              "      <td>Female</td>\n",
              "      <td>0-1hr</td>\n",
              "      <td>No</td>\n",
              "    </tr>\n",
              "    <tr>\n",
              "      <th>3</th>\n",
              "      <td>4</td>\n",
              "      <td>More than 9hrs</td>\n",
              "      <td>Mobile Phones, Laptops</td>\n",
              "      <td>2nd year</td>\n",
              "      <td>less than 6</td>\n",
              "      <td>yes</td>\n",
              "      <td>social Media</td>\n",
              "      <td>Female</td>\n",
              "      <td>2hrs</td>\n",
              "      <td>Yes</td>\n",
              "    </tr>\n",
              "    <tr>\n",
              "      <th>4</th>\n",
              "      <td>5</td>\n",
              "      <td>6-9hrs</td>\n",
              "      <td>Mobile Phones, Laptops</td>\n",
              "      <td>2nd year</td>\n",
              "      <td>6 - 8 CGPA</td>\n",
              "      <td>yes</td>\n",
              "      <td>Pass Time Activities(Movies,games)</td>\n",
              "      <td>Female</td>\n",
              "      <td>0-1hr</td>\n",
              "      <td>Yes</td>\n",
              "    </tr>\n",
              "    <tr>\n",
              "      <th>...</th>\n",
              "      <td>...</td>\n",
              "      <td>...</td>\n",
              "      <td>...</td>\n",
              "      <td>...</td>\n",
              "      <td>...</td>\n",
              "      <td>...</td>\n",
              "      <td>...</td>\n",
              "      <td>...</td>\n",
              "      <td>...</td>\n",
              "      <td>...</td>\n",
              "    </tr>\n",
              "    <tr>\n",
              "      <th>185</th>\n",
              "      <td>186</td>\n",
              "      <td>More than 9hrs</td>\n",
              "      <td>Mobile Phones, Laptops, Other</td>\n",
              "      <td>2nd year</td>\n",
              "      <td>less than 6</td>\n",
              "      <td>yes</td>\n",
              "      <td>Pass Time Activities(Movies,games)</td>\n",
              "      <td>Female</td>\n",
              "      <td>0-1hr</td>\n",
              "      <td>Yes</td>\n",
              "    </tr>\n",
              "    <tr>\n",
              "      <th>186</th>\n",
              "      <td>187</td>\n",
              "      <td>0-3hrs</td>\n",
              "      <td>Mobile Phones, Laptops</td>\n",
              "      <td>2nd year</td>\n",
              "      <td>9 - 10 CGPA</td>\n",
              "      <td>no</td>\n",
              "      <td>social Media</td>\n",
              "      <td>Female</td>\n",
              "      <td>0-1hr</td>\n",
              "      <td>Yes</td>\n",
              "    </tr>\n",
              "    <tr>\n",
              "      <th>187</th>\n",
              "      <td>188</td>\n",
              "      <td>0-3hrs</td>\n",
              "      <td>Mobile Phones, Laptops</td>\n",
              "      <td>2nd year</td>\n",
              "      <td>6 - 8 CGPA</td>\n",
              "      <td>no</td>\n",
              "      <td>Academic</td>\n",
              "      <td>Female</td>\n",
              "      <td>Hosteller</td>\n",
              "      <td>No</td>\n",
              "    </tr>\n",
              "    <tr>\n",
              "      <th>188</th>\n",
              "      <td>189</td>\n",
              "      <td>3-6hrs</td>\n",
              "      <td>Mobile Phones, Laptops, Other</td>\n",
              "      <td>2nd year</td>\n",
              "      <td>9 - 10 CGPA</td>\n",
              "      <td>yes</td>\n",
              "      <td>social Media</td>\n",
              "      <td>Female</td>\n",
              "      <td>2hrs</td>\n",
              "      <td>No</td>\n",
              "    </tr>\n",
              "    <tr>\n",
              "      <th>189</th>\n",
              "      <td>190</td>\n",
              "      <td>More than 9hrs</td>\n",
              "      <td>Mobile phones, Laptops</td>\n",
              "      <td>3rd year</td>\n",
              "      <td>less than 6</td>\n",
              "      <td>yes</td>\n",
              "      <td>Academic</td>\n",
              "      <td>Male</td>\n",
              "      <td>Hosteller</td>\n",
              "      <td>No</td>\n",
              "    </tr>\n",
              "  </tbody>\n",
              "</table>\n",
              "<p>190 rows × 10 columns</p>\n",
              "</div>\n",
              "      <button class=\"colab-df-convert\" onclick=\"convertToInteractive('df-9843230d-2192-4ab9-88ae-98e1e5666801')\"\n",
              "              title=\"Convert this dataframe to an interactive table.\"\n",
              "              style=\"display:none;\">\n",
              "        \n",
              "  <svg xmlns=\"http://www.w3.org/2000/svg\" height=\"24px\"viewBox=\"0 0 24 24\"\n",
              "       width=\"24px\">\n",
              "    <path d=\"M0 0h24v24H0V0z\" fill=\"none\"/>\n",
              "    <path d=\"M18.56 5.44l.94 2.06.94-2.06 2.06-.94-2.06-.94-.94-2.06-.94 2.06-2.06.94zm-11 1L8.5 8.5l.94-2.06 2.06-.94-2.06-.94L8.5 2.5l-.94 2.06-2.06.94zm10 10l.94 2.06.94-2.06 2.06-.94-2.06-.94-.94-2.06-.94 2.06-2.06.94z\"/><path d=\"M17.41 7.96l-1.37-1.37c-.4-.4-.92-.59-1.43-.59-.52 0-1.04.2-1.43.59L10.3 9.45l-7.72 7.72c-.78.78-.78 2.05 0 2.83L4 21.41c.39.39.9.59 1.41.59.51 0 1.02-.2 1.41-.59l7.78-7.78 2.81-2.81c.8-.78.8-2.07 0-2.86zM5.41 20L4 18.59l7.72-7.72 1.47 1.35L5.41 20z\"/>\n",
              "  </svg>\n",
              "      </button>\n",
              "      \n",
              "  <style>\n",
              "    .colab-df-container {\n",
              "      display:flex;\n",
              "      flex-wrap:wrap;\n",
              "      gap: 12px;\n",
              "    }\n",
              "\n",
              "    .colab-df-convert {\n",
              "      background-color: #E8F0FE;\n",
              "      border: none;\n",
              "      border-radius: 50%;\n",
              "      cursor: pointer;\n",
              "      display: none;\n",
              "      fill: #1967D2;\n",
              "      height: 32px;\n",
              "      padding: 0 0 0 0;\n",
              "      width: 32px;\n",
              "    }\n",
              "\n",
              "    .colab-df-convert:hover {\n",
              "      background-color: #E2EBFA;\n",
              "      box-shadow: 0px 1px 2px rgba(60, 64, 67, 0.3), 0px 1px 3px 1px rgba(60, 64, 67, 0.15);\n",
              "      fill: #174EA6;\n",
              "    }\n",
              "\n",
              "    [theme=dark] .colab-df-convert {\n",
              "      background-color: #3B4455;\n",
              "      fill: #D2E3FC;\n",
              "    }\n",
              "\n",
              "    [theme=dark] .colab-df-convert:hover {\n",
              "      background-color: #434B5C;\n",
              "      box-shadow: 0px 1px 3px 1px rgba(0, 0, 0, 0.15);\n",
              "      filter: drop-shadow(0px 1px 2px rgba(0, 0, 0, 0.3));\n",
              "      fill: #FFFFFF;\n",
              "    }\n",
              "  </style>\n",
              "\n",
              "      <script>\n",
              "        const buttonEl =\n",
              "          document.querySelector('#df-9843230d-2192-4ab9-88ae-98e1e5666801 button.colab-df-convert');\n",
              "        buttonEl.style.display =\n",
              "          google.colab.kernel.accessAllowed ? 'block' : 'none';\n",
              "\n",
              "        async function convertToInteractive(key) {\n",
              "          const element = document.querySelector('#df-9843230d-2192-4ab9-88ae-98e1e5666801');\n",
              "          const dataTable =\n",
              "            await google.colab.kernel.invokeFunction('convertToInteractive',\n",
              "                                                     [key], {});\n",
              "          if (!dataTable) return;\n",
              "\n",
              "          const docLinkHtml = 'Like what you see? Visit the ' +\n",
              "            '<a target=\"_blank\" href=https://colab.research.google.com/notebooks/data_table.ipynb>data table notebook</a>'\n",
              "            + ' to learn more about interactive tables.';\n",
              "          element.innerHTML = '';\n",
              "          dataTable['output_type'] = 'display_data';\n",
              "          await google.colab.output.renderOutput(dataTable, element);\n",
              "          const docLink = document.createElement('div');\n",
              "          docLink.innerHTML = docLinkHtml;\n",
              "          element.appendChild(docLink);\n",
              "        }\n",
              "      </script>\n",
              "    </div>\n",
              "  </div>\n",
              "  "
            ]
          },
          "metadata": {},
          "execution_count": 3
        }
      ]
    },
    {
      "cell_type": "code",
      "source": [
        "data.info()"
      ],
      "metadata": {
        "colab": {
          "base_uri": "https://localhost:8080/"
        },
        "id": "z0deHHeoUuD-",
        "outputId": "167a93de-cbb9-4f48-f6d1-de724e1b5ccb"
      },
      "execution_count": null,
      "outputs": [
        {
          "output_type": "stream",
          "name": "stdout",
          "text": [
            "<class 'pandas.core.frame.DataFrame'>\n",
            "RangeIndex: 190 entries, 0 to 189\n",
            "Data columns (total 10 columns):\n",
            " #   Column            Non-Null Count  Dtype \n",
            "---  ------            --------------  ----- \n",
            " 0   stu_id            190 non-null    int64 \n",
            " 1   AVERAGE_TIME      190 non-null    object\n",
            " 2   GADGETS_USED      190 non-null    object\n",
            " 3   YEAR              190 non-null    object\n",
            " 4   CGPA              190 non-null    object\n",
            " 5   AFFECT ACADEMICS  190 non-null    object\n",
            " 6   PURPOSE           190 non-null    object\n",
            " 7   SEX               190 non-null    object\n",
            " 8   TRAVEL TIME       190 non-null    object\n",
            " 9   EXTRA_COURSES     190 non-null    object\n",
            "dtypes: int64(1), object(9)\n",
            "memory usage: 15.0+ KB\n"
          ]
        }
      ]
    },
    {
      "cell_type": "code",
      "source": [
        "data.iloc[0:5,0:10]"
      ],
      "metadata": {
        "colab": {
          "base_uri": "https://localhost:8080/",
          "height": 354
        },
        "id": "62sPMbDsUvln",
        "outputId": "584013f6-db4a-4092-c0c0-585443d1d8f7"
      },
      "execution_count": null,
      "outputs": [
        {
          "output_type": "execute_result",
          "data": {
            "text/plain": [
              "   stu_id    AVERAGE_TIME                  GADGETS_USED      YEAR  \\\n",
              "0       1          0-3hrs  Mobile Phones, Laptops, Tabs  2nd year   \n",
              "1       2          3-6hrs  Mobile Phones, Laptops, Tabs  2nd year   \n",
              "2       3  More than 9hrs        Mobile Phones, Laptops  2nd year   \n",
              "3       4  More than 9hrs        Mobile Phones, Laptops  2nd year   \n",
              "4       5          6-9hrs        Mobile Phones, Laptops  2nd year   \n",
              "\n",
              "          CGPA AFFECT ACADEMICS                             PURPOSE     SEX  \\\n",
              "0  9 - 10 CGPA               no                            Academic  Female   \n",
              "1   6 - 8 CGPA               no                            Academic  Female   \n",
              "2  less than 6              yes  Pass Time Activities(Movies,games)  Female   \n",
              "3  less than 6              yes                        social Media  Female   \n",
              "4   6 - 8 CGPA              yes  Pass Time Activities(Movies,games)  Female   \n",
              "\n",
              "  TRAVEL TIME EXTRA_COURSES  \n",
              "0       0-1hr           Yes  \n",
              "1       0-1hr           Yes  \n",
              "2       0-1hr            No  \n",
              "3        2hrs           Yes  \n",
              "4       0-1hr           Yes  "
            ],
            "text/html": [
              "\n",
              "  <div id=\"df-a0960206-c29d-4eb5-bdc1-ee709ffb5c07\">\n",
              "    <div class=\"colab-df-container\">\n",
              "      <div>\n",
              "<style scoped>\n",
              "    .dataframe tbody tr th:only-of-type {\n",
              "        vertical-align: middle;\n",
              "    }\n",
              "\n",
              "    .dataframe tbody tr th {\n",
              "        vertical-align: top;\n",
              "    }\n",
              "\n",
              "    .dataframe thead th {\n",
              "        text-align: right;\n",
              "    }\n",
              "</style>\n",
              "<table border=\"1\" class=\"dataframe\">\n",
              "  <thead>\n",
              "    <tr style=\"text-align: right;\">\n",
              "      <th></th>\n",
              "      <th>stu_id</th>\n",
              "      <th>AVERAGE_TIME</th>\n",
              "      <th>GADGETS_USED</th>\n",
              "      <th>YEAR</th>\n",
              "      <th>CGPA</th>\n",
              "      <th>AFFECT ACADEMICS</th>\n",
              "      <th>PURPOSE</th>\n",
              "      <th>SEX</th>\n",
              "      <th>TRAVEL TIME</th>\n",
              "      <th>EXTRA_COURSES</th>\n",
              "    </tr>\n",
              "  </thead>\n",
              "  <tbody>\n",
              "    <tr>\n",
              "      <th>0</th>\n",
              "      <td>1</td>\n",
              "      <td>0-3hrs</td>\n",
              "      <td>Mobile Phones, Laptops, Tabs</td>\n",
              "      <td>2nd year</td>\n",
              "      <td>9 - 10 CGPA</td>\n",
              "      <td>no</td>\n",
              "      <td>Academic</td>\n",
              "      <td>Female</td>\n",
              "      <td>0-1hr</td>\n",
              "      <td>Yes</td>\n",
              "    </tr>\n",
              "    <tr>\n",
              "      <th>1</th>\n",
              "      <td>2</td>\n",
              "      <td>3-6hrs</td>\n",
              "      <td>Mobile Phones, Laptops, Tabs</td>\n",
              "      <td>2nd year</td>\n",
              "      <td>6 - 8 CGPA</td>\n",
              "      <td>no</td>\n",
              "      <td>Academic</td>\n",
              "      <td>Female</td>\n",
              "      <td>0-1hr</td>\n",
              "      <td>Yes</td>\n",
              "    </tr>\n",
              "    <tr>\n",
              "      <th>2</th>\n",
              "      <td>3</td>\n",
              "      <td>More than 9hrs</td>\n",
              "      <td>Mobile Phones, Laptops</td>\n",
              "      <td>2nd year</td>\n",
              "      <td>less than 6</td>\n",
              "      <td>yes</td>\n",
              "      <td>Pass Time Activities(Movies,games)</td>\n",
              "      <td>Female</td>\n",
              "      <td>0-1hr</td>\n",
              "      <td>No</td>\n",
              "    </tr>\n",
              "    <tr>\n",
              "      <th>3</th>\n",
              "      <td>4</td>\n",
              "      <td>More than 9hrs</td>\n",
              "      <td>Mobile Phones, Laptops</td>\n",
              "      <td>2nd year</td>\n",
              "      <td>less than 6</td>\n",
              "      <td>yes</td>\n",
              "      <td>social Media</td>\n",
              "      <td>Female</td>\n",
              "      <td>2hrs</td>\n",
              "      <td>Yes</td>\n",
              "    </tr>\n",
              "    <tr>\n",
              "      <th>4</th>\n",
              "      <td>5</td>\n",
              "      <td>6-9hrs</td>\n",
              "      <td>Mobile Phones, Laptops</td>\n",
              "      <td>2nd year</td>\n",
              "      <td>6 - 8 CGPA</td>\n",
              "      <td>yes</td>\n",
              "      <td>Pass Time Activities(Movies,games)</td>\n",
              "      <td>Female</td>\n",
              "      <td>0-1hr</td>\n",
              "      <td>Yes</td>\n",
              "    </tr>\n",
              "  </tbody>\n",
              "</table>\n",
              "</div>\n",
              "      <button class=\"colab-df-convert\" onclick=\"convertToInteractive('df-a0960206-c29d-4eb5-bdc1-ee709ffb5c07')\"\n",
              "              title=\"Convert this dataframe to an interactive table.\"\n",
              "              style=\"display:none;\">\n",
              "        \n",
              "  <svg xmlns=\"http://www.w3.org/2000/svg\" height=\"24px\"viewBox=\"0 0 24 24\"\n",
              "       width=\"24px\">\n",
              "    <path d=\"M0 0h24v24H0V0z\" fill=\"none\"/>\n",
              "    <path d=\"M18.56 5.44l.94 2.06.94-2.06 2.06-.94-2.06-.94-.94-2.06-.94 2.06-2.06.94zm-11 1L8.5 8.5l.94-2.06 2.06-.94-2.06-.94L8.5 2.5l-.94 2.06-2.06.94zm10 10l.94 2.06.94-2.06 2.06-.94-2.06-.94-.94-2.06-.94 2.06-2.06.94z\"/><path d=\"M17.41 7.96l-1.37-1.37c-.4-.4-.92-.59-1.43-.59-.52 0-1.04.2-1.43.59L10.3 9.45l-7.72 7.72c-.78.78-.78 2.05 0 2.83L4 21.41c.39.39.9.59 1.41.59.51 0 1.02-.2 1.41-.59l7.78-7.78 2.81-2.81c.8-.78.8-2.07 0-2.86zM5.41 20L4 18.59l7.72-7.72 1.47 1.35L5.41 20z\"/>\n",
              "  </svg>\n",
              "      </button>\n",
              "      \n",
              "  <style>\n",
              "    .colab-df-container {\n",
              "      display:flex;\n",
              "      flex-wrap:wrap;\n",
              "      gap: 12px;\n",
              "    }\n",
              "\n",
              "    .colab-df-convert {\n",
              "      background-color: #E8F0FE;\n",
              "      border: none;\n",
              "      border-radius: 50%;\n",
              "      cursor: pointer;\n",
              "      display: none;\n",
              "      fill: #1967D2;\n",
              "      height: 32px;\n",
              "      padding: 0 0 0 0;\n",
              "      width: 32px;\n",
              "    }\n",
              "\n",
              "    .colab-df-convert:hover {\n",
              "      background-color: #E2EBFA;\n",
              "      box-shadow: 0px 1px 2px rgba(60, 64, 67, 0.3), 0px 1px 3px 1px rgba(60, 64, 67, 0.15);\n",
              "      fill: #174EA6;\n",
              "    }\n",
              "\n",
              "    [theme=dark] .colab-df-convert {\n",
              "      background-color: #3B4455;\n",
              "      fill: #D2E3FC;\n",
              "    }\n",
              "\n",
              "    [theme=dark] .colab-df-convert:hover {\n",
              "      background-color: #434B5C;\n",
              "      box-shadow: 0px 1px 3px 1px rgba(0, 0, 0, 0.15);\n",
              "      filter: drop-shadow(0px 1px 2px rgba(0, 0, 0, 0.3));\n",
              "      fill: #FFFFFF;\n",
              "    }\n",
              "  </style>\n",
              "\n",
              "      <script>\n",
              "        const buttonEl =\n",
              "          document.querySelector('#df-a0960206-c29d-4eb5-bdc1-ee709ffb5c07 button.colab-df-convert');\n",
              "        buttonEl.style.display =\n",
              "          google.colab.kernel.accessAllowed ? 'block' : 'none';\n",
              "\n",
              "        async function convertToInteractive(key) {\n",
              "          const element = document.querySelector('#df-a0960206-c29d-4eb5-bdc1-ee709ffb5c07');\n",
              "          const dataTable =\n",
              "            await google.colab.kernel.invokeFunction('convertToInteractive',\n",
              "                                                     [key], {});\n",
              "          if (!dataTable) return;\n",
              "\n",
              "          const docLinkHtml = 'Like what you see? Visit the ' +\n",
              "            '<a target=\"_blank\" href=https://colab.research.google.com/notebooks/data_table.ipynb>data table notebook</a>'\n",
              "            + ' to learn more about interactive tables.';\n",
              "          element.innerHTML = '';\n",
              "          dataTable['output_type'] = 'display_data';\n",
              "          await google.colab.output.renderOutput(dataTable, element);\n",
              "          const docLink = document.createElement('div');\n",
              "          docLink.innerHTML = docLinkHtml;\n",
              "          element.appendChild(docLink);\n",
              "        }\n",
              "      </script>\n",
              "    </div>\n",
              "  </div>\n",
              "  "
            ]
          },
          "metadata": {},
          "execution_count": 5
        }
      ]
    },
    {
      "cell_type": "code",
      "source": [
        "data['AVERAGE_TIME'].unique()"
      ],
      "metadata": {
        "colab": {
          "base_uri": "https://localhost:8080/"
        },
        "id": "imhdKqvIUzAa",
        "outputId": "7787bc70-0821-437e-e5bf-a92b4be9791f"
      },
      "execution_count": null,
      "outputs": [
        {
          "output_type": "execute_result",
          "data": {
            "text/plain": [
              "array(['0-3hrs', '3-6hrs', 'More than 9hrs', '6-9hrs'], dtype=object)"
            ]
          },
          "metadata": {},
          "execution_count": 6
        }
      ]
    },
    {
      "cell_type": "code",
      "source": [
        "data['AVERAGE_TIME'].replace(['0-3hrs','3-6hrs','More than 9hrs','6-9hrs'],\n",
        "                             [0,1,3,2], inplace=True)"
      ],
      "metadata": {
        "id": "kDjK9PwfU49R"
      },
      "execution_count": null,
      "outputs": []
    },
    {
      "cell_type": "code",
      "source": [
        "data['GADGETS_USED'].unique()"
      ],
      "metadata": {
        "colab": {
          "base_uri": "https://localhost:8080/"
        },
        "id": "iT7CHHWPBLhW",
        "outputId": "bb13c6db-be01-41b8-dfb1-67ec0e90933c"
      },
      "execution_count": null,
      "outputs": [
        {
          "output_type": "execute_result",
          "data": {
            "text/plain": [
              "array(['Mobile Phones, Laptops, Tabs', 'Mobile Phones, Laptops',\n",
              "       'Mobile Phones', 'Mobile Phones, Laptops, Other',\n",
              "       'Mobile Phones, Other', 'Laptops', 'Tabs',\n",
              "       'Mobile Phones, Laptops, Tabs, Other', 'Other',\n",
              "       'Mobile Phones, Tabs', 'Mobile Phones, Tabs, Other',\n",
              "       'Mobile phones, Laptops'], dtype=object)"
            ]
          },
          "metadata": {},
          "execution_count": 117
        }
      ]
    },
    {
      "cell_type": "code",
      "source": [
        "data['GADGETS_USED'].replace(['Mobile Phones, Laptops, Tabs', 'Mobile Phones, Laptops',\n",
        "       'Mobile Phones', 'Mobile Phones, Laptops, Other',\n",
        "       'Mobile Phones, Other', 'Laptops', 'Tabs',\n",
        "       'Mobile Phones, Laptops, Tabs, Other', 'Other',\n",
        "       'Mobile Phones, Tabs', 'Mobile Phones, Tabs, Other',\n",
        "       'Mobile phones, Laptops'],\n",
        "       [0,1,2,3,4,5,6,7,8,9,10,11], inplace=True)"
      ],
      "metadata": {
        "id": "XAfTxLLcBRZk"
      },
      "execution_count": null,
      "outputs": []
    },
    {
      "cell_type": "code",
      "source": [
        "data['YEAR'].unique()"
      ],
      "metadata": {
        "colab": {
          "base_uri": "https://localhost:8080/"
        },
        "id": "VOxq3jnEC4Ln",
        "outputId": "01a8215d-07ee-4287-a0de-b377313bc995"
      },
      "execution_count": null,
      "outputs": [
        {
          "output_type": "execute_result",
          "data": {
            "text/plain": [
              "array(['2nd year', '1st year', 'Final year', '3rd year'], dtype=object)"
            ]
          },
          "metadata": {},
          "execution_count": 8
        }
      ]
    },
    {
      "cell_type": "code",
      "source": [
        "data['YEAR'].replace(['2nd year','1st year','Final year','3rd year'],\n",
        "                     [2,1,4,3],inplace=True)"
      ],
      "metadata": {
        "id": "MlinVFV7DFsQ"
      },
      "execution_count": null,
      "outputs": []
    },
    {
      "cell_type": "code",
      "source": [
        "data['CGPA'].unique()"
      ],
      "metadata": {
        "colab": {
          "base_uri": "https://localhost:8080/"
        },
        "id": "f67P2VkmDWA-",
        "outputId": "5ed35e4f-dd01-4fd6-ba4d-ebe5a19f282f"
      },
      "execution_count": null,
      "outputs": [
        {
          "output_type": "execute_result",
          "data": {
            "text/plain": [
              "array(['9 - 10 CGPA', '6 - 8 CGPA', 'less than 6', '9-10 CGPA',\n",
              "       '6-8 CGPA'], dtype=object)"
            ]
          },
          "metadata": {},
          "execution_count": 10
        }
      ]
    },
    {
      "cell_type": "code",
      "source": [
        "data['CGPA'].replace(['6 - 8 CGPA', 'less than 6', '9-10 CGPA', '6-8 CGPA',\n",
        "       '9 - 10 CGPA'],[2,3,1,2,1],inplace=True)\n",
        "\n",
        ""
      ],
      "metadata": {
        "id": "bHQDVXrTD_UG"
      },
      "execution_count": null,
      "outputs": []
    },
    {
      "cell_type": "code",
      "source": [
        "data['AFFECT ACADEMICS'].unique()"
      ],
      "metadata": {
        "colab": {
          "base_uri": "https://localhost:8080/"
        },
        "id": "UhqJcXutEmtz",
        "outputId": "fac7c4d0-5494-4cce-bd98-d9eca41d73c3"
      },
      "execution_count": null,
      "outputs": [
        {
          "output_type": "execute_result",
          "data": {
            "text/plain": [
              "array(['no', 'yes'], dtype=object)"
            ]
          },
          "metadata": {},
          "execution_count": 12
        }
      ]
    },
    {
      "cell_type": "code",
      "source": [
        "data['AFFECT ACADEMICS'].replace(['yes','no'],\n",
        "                                 [0,1],inplace=True)"
      ],
      "metadata": {
        "id": "NU0l0SJeEzrZ"
      },
      "execution_count": null,
      "outputs": []
    },
    {
      "cell_type": "code",
      "source": [
        "data['PURPOSE'].unique()"
      ],
      "metadata": {
        "colab": {
          "base_uri": "https://localhost:8080/"
        },
        "id": "3NXR8ca4FiuX",
        "outputId": "c47fecdb-5fe1-4cde-a961-8f0582679498"
      },
      "execution_count": null,
      "outputs": [
        {
          "output_type": "execute_result",
          "data": {
            "text/plain": [
              "array(['Academic', 'Pass Time Activities(Movies,games)', 'social Media'],\n",
              "      dtype=object)"
            ]
          },
          "metadata": {},
          "execution_count": 14
        }
      ]
    },
    {
      "cell_type": "code",
      "source": [
        "data['PURPOSE'].replace(['Academic', 'Pass Time Activities(Movies,games)', 'social Media'],\n",
        "                        [0,1,2],inplace=True)"
      ],
      "metadata": {
        "id": "y2r_UmJgFqSo"
      },
      "execution_count": null,
      "outputs": []
    },
    {
      "cell_type": "code",
      "source": [
        "data['SEX'].unique()"
      ],
      "metadata": {
        "colab": {
          "base_uri": "https://localhost:8080/"
        },
        "id": "VYCeQL0yF6zz",
        "outputId": "af83229e-c328-4497-d57f-63c532d44e88"
      },
      "execution_count": null,
      "outputs": [
        {
          "output_type": "execute_result",
          "data": {
            "text/plain": [
              "array(['Female', 'Male'], dtype=object)"
            ]
          },
          "metadata": {},
          "execution_count": 16
        }
      ]
    },
    {
      "cell_type": "code",
      "source": [
        "data['SEX'].replace(['Female','Male'],\n",
        "                    [0,1],inplace=True)"
      ],
      "metadata": {
        "id": "EXPU-ugrGADc"
      },
      "execution_count": null,
      "outputs": []
    },
    {
      "cell_type": "code",
      "source": [
        "data['TRAVEL TIME'].unique()"
      ],
      "metadata": {
        "colab": {
          "base_uri": "https://localhost:8080/"
        },
        "id": "dIC5N30IGJMX",
        "outputId": "7f1f3f06-d385-4f39-c859-a175db6bcbde"
      },
      "execution_count": null,
      "outputs": [
        {
          "output_type": "execute_result",
          "data": {
            "text/plain": [
              "array(['0-1hr', '2hrs', 'Hosteller'], dtype=object)"
            ]
          },
          "metadata": {},
          "execution_count": 18
        }
      ]
    },
    {
      "cell_type": "code",
      "source": [
        "data['TRAVEL TIME'].replace(['0-1hr', '2hrs', 'Hosteller'],\n",
        "                            [1,2,0],inplace=True)"
      ],
      "metadata": {
        "id": "a4RzzWoIGOZ4"
      },
      "execution_count": null,
      "outputs": []
    },
    {
      "cell_type": "code",
      "source": [
        "data['EXTRA_COURSES'].unique()"
      ],
      "metadata": {
        "colab": {
          "base_uri": "https://localhost:8080/"
        },
        "id": "pWy_0ZqhGYav",
        "outputId": "c0e11807-68c2-42cc-883c-5fa84fdba170"
      },
      "execution_count": null,
      "outputs": [
        {
          "output_type": "execute_result",
          "data": {
            "text/plain": [
              "array(['Yes', 'No'], dtype=object)"
            ]
          },
          "metadata": {},
          "execution_count": 20
        }
      ]
    },
    {
      "cell_type": "code",
      "source": [
        "data['EXTRA_COURSES'].replace(['Yes','No'],\n",
        "                              [0,1],inplace=True)"
      ],
      "metadata": {
        "id": "mjt1ObmWGd-b"
      },
      "execution_count": null,
      "outputs": []
    },
    {
      "cell_type": "code",
      "source": [
        "data.info()"
      ],
      "metadata": {
        "colab": {
          "base_uri": "https://localhost:8080/"
        },
        "id": "XbgYKdeRGkdB",
        "outputId": "c7365fc9-383d-4d79-c9a5-c38a8f11b48d"
      },
      "execution_count": null,
      "outputs": [
        {
          "output_type": "stream",
          "name": "stdout",
          "text": [
            "<class 'pandas.core.frame.DataFrame'>\n",
            "RangeIndex: 190 entries, 0 to 189\n",
            "Data columns (total 10 columns):\n",
            " #   Column            Non-Null Count  Dtype\n",
            "---  ------            --------------  -----\n",
            " 0   stu_id            190 non-null    int64\n",
            " 1   AVERAGE_TIME      190 non-null    int64\n",
            " 2   GADGETS_USED      190 non-null    int64\n",
            " 3   YEAR              190 non-null    int64\n",
            " 4   CGPA              190 non-null    int64\n",
            " 5   AFFECT ACADEMICS  190 non-null    int64\n",
            " 6   PURPOSE           190 non-null    int64\n",
            " 7   SEX               190 non-null    int64\n",
            " 8   TRAVEL TIME       190 non-null    int64\n",
            " 9   EXTRA_COURSES     190 non-null    int64\n",
            "dtypes: int64(10)\n",
            "memory usage: 15.0 KB\n"
          ]
        }
      ]
    },
    {
      "cell_type": "code",
      "source": [
        "data"
      ],
      "metadata": {
        "colab": {
          "base_uri": "https://localhost:8080/",
          "height": 424
        },
        "id": "BcbKj7ShGn5Y",
        "outputId": "ccbf8e20-8234-41cc-be26-3bb986cd3bfa"
      },
      "execution_count": null,
      "outputs": [
        {
          "output_type": "execute_result",
          "data": {
            "text/plain": [
              "     stu_id  AVERAGE_TIME  GADGETS_USED  YEAR  CGPA  AFFECT ACADEMICS  \\\n",
              "0         1             0             0     2     1                 1   \n",
              "1         2             1             0     2     2                 1   \n",
              "2         3             3             1     2     3                 0   \n",
              "3         4             3             1     2     3                 0   \n",
              "4         5             2             1     2     2                 0   \n",
              "..      ...           ...           ...   ...   ...               ...   \n",
              "185     186             3             3     2     3                 0   \n",
              "186     187             0             1     2     1                 1   \n",
              "187     188             0             1     2     2                 1   \n",
              "188     189             1             3     2     1                 0   \n",
              "189     190             3            11     3     3                 0   \n",
              "\n",
              "     PURPOSE  SEX  TRAVEL TIME  EXTRA_COURSES  \n",
              "0          0    0            1              0  \n",
              "1          0    0            1              0  \n",
              "2          1    0            1              1  \n",
              "3          2    0            2              0  \n",
              "4          1    0            1              0  \n",
              "..       ...  ...          ...            ...  \n",
              "185        1    0            1              0  \n",
              "186        2    0            1              0  \n",
              "187        0    0            0              1  \n",
              "188        2    0            2              1  \n",
              "189        0    1            0              1  \n",
              "\n",
              "[190 rows x 10 columns]"
            ],
            "text/html": [
              "\n",
              "  <div id=\"df-e794f3d3-c19e-4008-8d36-251d29a9993a\">\n",
              "    <div class=\"colab-df-container\">\n",
              "      <div>\n",
              "<style scoped>\n",
              "    .dataframe tbody tr th:only-of-type {\n",
              "        vertical-align: middle;\n",
              "    }\n",
              "\n",
              "    .dataframe tbody tr th {\n",
              "        vertical-align: top;\n",
              "    }\n",
              "\n",
              "    .dataframe thead th {\n",
              "        text-align: right;\n",
              "    }\n",
              "</style>\n",
              "<table border=\"1\" class=\"dataframe\">\n",
              "  <thead>\n",
              "    <tr style=\"text-align: right;\">\n",
              "      <th></th>\n",
              "      <th>stu_id</th>\n",
              "      <th>AVERAGE_TIME</th>\n",
              "      <th>GADGETS_USED</th>\n",
              "      <th>YEAR</th>\n",
              "      <th>CGPA</th>\n",
              "      <th>AFFECT ACADEMICS</th>\n",
              "      <th>PURPOSE</th>\n",
              "      <th>SEX</th>\n",
              "      <th>TRAVEL TIME</th>\n",
              "      <th>EXTRA_COURSES</th>\n",
              "    </tr>\n",
              "  </thead>\n",
              "  <tbody>\n",
              "    <tr>\n",
              "      <th>0</th>\n",
              "      <td>1</td>\n",
              "      <td>0</td>\n",
              "      <td>0</td>\n",
              "      <td>2</td>\n",
              "      <td>1</td>\n",
              "      <td>1</td>\n",
              "      <td>0</td>\n",
              "      <td>0</td>\n",
              "      <td>1</td>\n",
              "      <td>0</td>\n",
              "    </tr>\n",
              "    <tr>\n",
              "      <th>1</th>\n",
              "      <td>2</td>\n",
              "      <td>1</td>\n",
              "      <td>0</td>\n",
              "      <td>2</td>\n",
              "      <td>2</td>\n",
              "      <td>1</td>\n",
              "      <td>0</td>\n",
              "      <td>0</td>\n",
              "      <td>1</td>\n",
              "      <td>0</td>\n",
              "    </tr>\n",
              "    <tr>\n",
              "      <th>2</th>\n",
              "      <td>3</td>\n",
              "      <td>3</td>\n",
              "      <td>1</td>\n",
              "      <td>2</td>\n",
              "      <td>3</td>\n",
              "      <td>0</td>\n",
              "      <td>1</td>\n",
              "      <td>0</td>\n",
              "      <td>1</td>\n",
              "      <td>1</td>\n",
              "    </tr>\n",
              "    <tr>\n",
              "      <th>3</th>\n",
              "      <td>4</td>\n",
              "      <td>3</td>\n",
              "      <td>1</td>\n",
              "      <td>2</td>\n",
              "      <td>3</td>\n",
              "      <td>0</td>\n",
              "      <td>2</td>\n",
              "      <td>0</td>\n",
              "      <td>2</td>\n",
              "      <td>0</td>\n",
              "    </tr>\n",
              "    <tr>\n",
              "      <th>4</th>\n",
              "      <td>5</td>\n",
              "      <td>2</td>\n",
              "      <td>1</td>\n",
              "      <td>2</td>\n",
              "      <td>2</td>\n",
              "      <td>0</td>\n",
              "      <td>1</td>\n",
              "      <td>0</td>\n",
              "      <td>1</td>\n",
              "      <td>0</td>\n",
              "    </tr>\n",
              "    <tr>\n",
              "      <th>...</th>\n",
              "      <td>...</td>\n",
              "      <td>...</td>\n",
              "      <td>...</td>\n",
              "      <td>...</td>\n",
              "      <td>...</td>\n",
              "      <td>...</td>\n",
              "      <td>...</td>\n",
              "      <td>...</td>\n",
              "      <td>...</td>\n",
              "      <td>...</td>\n",
              "    </tr>\n",
              "    <tr>\n",
              "      <th>185</th>\n",
              "      <td>186</td>\n",
              "      <td>3</td>\n",
              "      <td>3</td>\n",
              "      <td>2</td>\n",
              "      <td>3</td>\n",
              "      <td>0</td>\n",
              "      <td>1</td>\n",
              "      <td>0</td>\n",
              "      <td>1</td>\n",
              "      <td>0</td>\n",
              "    </tr>\n",
              "    <tr>\n",
              "      <th>186</th>\n",
              "      <td>187</td>\n",
              "      <td>0</td>\n",
              "      <td>1</td>\n",
              "      <td>2</td>\n",
              "      <td>1</td>\n",
              "      <td>1</td>\n",
              "      <td>2</td>\n",
              "      <td>0</td>\n",
              "      <td>1</td>\n",
              "      <td>0</td>\n",
              "    </tr>\n",
              "    <tr>\n",
              "      <th>187</th>\n",
              "      <td>188</td>\n",
              "      <td>0</td>\n",
              "      <td>1</td>\n",
              "      <td>2</td>\n",
              "      <td>2</td>\n",
              "      <td>1</td>\n",
              "      <td>0</td>\n",
              "      <td>0</td>\n",
              "      <td>0</td>\n",
              "      <td>1</td>\n",
              "    </tr>\n",
              "    <tr>\n",
              "      <th>188</th>\n",
              "      <td>189</td>\n",
              "      <td>1</td>\n",
              "      <td>3</td>\n",
              "      <td>2</td>\n",
              "      <td>1</td>\n",
              "      <td>0</td>\n",
              "      <td>2</td>\n",
              "      <td>0</td>\n",
              "      <td>2</td>\n",
              "      <td>1</td>\n",
              "    </tr>\n",
              "    <tr>\n",
              "      <th>189</th>\n",
              "      <td>190</td>\n",
              "      <td>3</td>\n",
              "      <td>11</td>\n",
              "      <td>3</td>\n",
              "      <td>3</td>\n",
              "      <td>0</td>\n",
              "      <td>0</td>\n",
              "      <td>1</td>\n",
              "      <td>0</td>\n",
              "      <td>1</td>\n",
              "    </tr>\n",
              "  </tbody>\n",
              "</table>\n",
              "<p>190 rows × 10 columns</p>\n",
              "</div>\n",
              "      <button class=\"colab-df-convert\" onclick=\"convertToInteractive('df-e794f3d3-c19e-4008-8d36-251d29a9993a')\"\n",
              "              title=\"Convert this dataframe to an interactive table.\"\n",
              "              style=\"display:none;\">\n",
              "        \n",
              "  <svg xmlns=\"http://www.w3.org/2000/svg\" height=\"24px\"viewBox=\"0 0 24 24\"\n",
              "       width=\"24px\">\n",
              "    <path d=\"M0 0h24v24H0V0z\" fill=\"none\"/>\n",
              "    <path d=\"M18.56 5.44l.94 2.06.94-2.06 2.06-.94-2.06-.94-.94-2.06-.94 2.06-2.06.94zm-11 1L8.5 8.5l.94-2.06 2.06-.94-2.06-.94L8.5 2.5l-.94 2.06-2.06.94zm10 10l.94 2.06.94-2.06 2.06-.94-2.06-.94-.94-2.06-.94 2.06-2.06.94z\"/><path d=\"M17.41 7.96l-1.37-1.37c-.4-.4-.92-.59-1.43-.59-.52 0-1.04.2-1.43.59L10.3 9.45l-7.72 7.72c-.78.78-.78 2.05 0 2.83L4 21.41c.39.39.9.59 1.41.59.51 0 1.02-.2 1.41-.59l7.78-7.78 2.81-2.81c.8-.78.8-2.07 0-2.86zM5.41 20L4 18.59l7.72-7.72 1.47 1.35L5.41 20z\"/>\n",
              "  </svg>\n",
              "      </button>\n",
              "      \n",
              "  <style>\n",
              "    .colab-df-container {\n",
              "      display:flex;\n",
              "      flex-wrap:wrap;\n",
              "      gap: 12px;\n",
              "    }\n",
              "\n",
              "    .colab-df-convert {\n",
              "      background-color: #E8F0FE;\n",
              "      border: none;\n",
              "      border-radius: 50%;\n",
              "      cursor: pointer;\n",
              "      display: none;\n",
              "      fill: #1967D2;\n",
              "      height: 32px;\n",
              "      padding: 0 0 0 0;\n",
              "      width: 32px;\n",
              "    }\n",
              "\n",
              "    .colab-df-convert:hover {\n",
              "      background-color: #E2EBFA;\n",
              "      box-shadow: 0px 1px 2px rgba(60, 64, 67, 0.3), 0px 1px 3px 1px rgba(60, 64, 67, 0.15);\n",
              "      fill: #174EA6;\n",
              "    }\n",
              "\n",
              "    [theme=dark] .colab-df-convert {\n",
              "      background-color: #3B4455;\n",
              "      fill: #D2E3FC;\n",
              "    }\n",
              "\n",
              "    [theme=dark] .colab-df-convert:hover {\n",
              "      background-color: #434B5C;\n",
              "      box-shadow: 0px 1px 3px 1px rgba(0, 0, 0, 0.15);\n",
              "      filter: drop-shadow(0px 1px 2px rgba(0, 0, 0, 0.3));\n",
              "      fill: #FFFFFF;\n",
              "    }\n",
              "  </style>\n",
              "\n",
              "      <script>\n",
              "        const buttonEl =\n",
              "          document.querySelector('#df-e794f3d3-c19e-4008-8d36-251d29a9993a button.colab-df-convert');\n",
              "        buttonEl.style.display =\n",
              "          google.colab.kernel.accessAllowed ? 'block' : 'none';\n",
              "\n",
              "        async function convertToInteractive(key) {\n",
              "          const element = document.querySelector('#df-e794f3d3-c19e-4008-8d36-251d29a9993a');\n",
              "          const dataTable =\n",
              "            await google.colab.kernel.invokeFunction('convertToInteractive',\n",
              "                                                     [key], {});\n",
              "          if (!dataTable) return;\n",
              "\n",
              "          const docLinkHtml = 'Like what you see? Visit the ' +\n",
              "            '<a target=\"_blank\" href=https://colab.research.google.com/notebooks/data_table.ipynb>data table notebook</a>'\n",
              "            + ' to learn more about interactive tables.';\n",
              "          element.innerHTML = '';\n",
              "          dataTable['output_type'] = 'display_data';\n",
              "          await google.colab.output.renderOutput(dataTable, element);\n",
              "          const docLink = document.createElement('div');\n",
              "          docLink.innerHTML = docLinkHtml;\n",
              "          element.appendChild(docLink);\n",
              "        }\n",
              "      </script>\n",
              "    </div>\n",
              "  </div>\n",
              "  "
            ]
          },
          "metadata": {},
          "execution_count": 26
        }
      ]
    },
    {
      "cell_type": "code",
      "source": [
        "\n",
        "data.head()"
      ],
      "metadata": {
        "colab": {
          "base_uri": "https://localhost:8080/",
          "height": 206
        },
        "id": "ied4IL4UGqG1",
        "outputId": "4ef35bf1-9964-42eb-c921-6fb69a1e9e2a"
      },
      "execution_count": null,
      "outputs": [
        {
          "output_type": "execute_result",
          "data": {
            "text/plain": [
              "   stu_id  AVERAGE_TIME  GADGETS_USED  YEAR  CGPA  AFFECT ACADEMICS  PURPOSE  \\\n",
              "0       1             0             0     2     1                 1        0   \n",
              "1       2             1             0     2     2                 1        0   \n",
              "2       3             3             1     2     3                 0        1   \n",
              "3       4             3             1     2     3                 0        2   \n",
              "4       5             2             1     2     2                 0        1   \n",
              "\n",
              "   SEX  TRAVEL TIME  EXTRA_COURSES  \n",
              "0    0            1              0  \n",
              "1    0            1              0  \n",
              "2    0            1              1  \n",
              "3    0            2              0  \n",
              "4    0            1              0  "
            ],
            "text/html": [
              "\n",
              "  <div id=\"df-dc8c512b-abb2-49e2-bda0-8e288c78b315\">\n",
              "    <div class=\"colab-df-container\">\n",
              "      <div>\n",
              "<style scoped>\n",
              "    .dataframe tbody tr th:only-of-type {\n",
              "        vertical-align: middle;\n",
              "    }\n",
              "\n",
              "    .dataframe tbody tr th {\n",
              "        vertical-align: top;\n",
              "    }\n",
              "\n",
              "    .dataframe thead th {\n",
              "        text-align: right;\n",
              "    }\n",
              "</style>\n",
              "<table border=\"1\" class=\"dataframe\">\n",
              "  <thead>\n",
              "    <tr style=\"text-align: right;\">\n",
              "      <th></th>\n",
              "      <th>stu_id</th>\n",
              "      <th>AVERAGE_TIME</th>\n",
              "      <th>GADGETS_USED</th>\n",
              "      <th>YEAR</th>\n",
              "      <th>CGPA</th>\n",
              "      <th>AFFECT ACADEMICS</th>\n",
              "      <th>PURPOSE</th>\n",
              "      <th>SEX</th>\n",
              "      <th>TRAVEL TIME</th>\n",
              "      <th>EXTRA_COURSES</th>\n",
              "    </tr>\n",
              "  </thead>\n",
              "  <tbody>\n",
              "    <tr>\n",
              "      <th>0</th>\n",
              "      <td>1</td>\n",
              "      <td>0</td>\n",
              "      <td>0</td>\n",
              "      <td>2</td>\n",
              "      <td>1</td>\n",
              "      <td>1</td>\n",
              "      <td>0</td>\n",
              "      <td>0</td>\n",
              "      <td>1</td>\n",
              "      <td>0</td>\n",
              "    </tr>\n",
              "    <tr>\n",
              "      <th>1</th>\n",
              "      <td>2</td>\n",
              "      <td>1</td>\n",
              "      <td>0</td>\n",
              "      <td>2</td>\n",
              "      <td>2</td>\n",
              "      <td>1</td>\n",
              "      <td>0</td>\n",
              "      <td>0</td>\n",
              "      <td>1</td>\n",
              "      <td>0</td>\n",
              "    </tr>\n",
              "    <tr>\n",
              "      <th>2</th>\n",
              "      <td>3</td>\n",
              "      <td>3</td>\n",
              "      <td>1</td>\n",
              "      <td>2</td>\n",
              "      <td>3</td>\n",
              "      <td>0</td>\n",
              "      <td>1</td>\n",
              "      <td>0</td>\n",
              "      <td>1</td>\n",
              "      <td>1</td>\n",
              "    </tr>\n",
              "    <tr>\n",
              "      <th>3</th>\n",
              "      <td>4</td>\n",
              "      <td>3</td>\n",
              "      <td>1</td>\n",
              "      <td>2</td>\n",
              "      <td>3</td>\n",
              "      <td>0</td>\n",
              "      <td>2</td>\n",
              "      <td>0</td>\n",
              "      <td>2</td>\n",
              "      <td>0</td>\n",
              "    </tr>\n",
              "    <tr>\n",
              "      <th>4</th>\n",
              "      <td>5</td>\n",
              "      <td>2</td>\n",
              "      <td>1</td>\n",
              "      <td>2</td>\n",
              "      <td>2</td>\n",
              "      <td>0</td>\n",
              "      <td>1</td>\n",
              "      <td>0</td>\n",
              "      <td>1</td>\n",
              "      <td>0</td>\n",
              "    </tr>\n",
              "  </tbody>\n",
              "</table>\n",
              "</div>\n",
              "      <button class=\"colab-df-convert\" onclick=\"convertToInteractive('df-dc8c512b-abb2-49e2-bda0-8e288c78b315')\"\n",
              "              title=\"Convert this dataframe to an interactive table.\"\n",
              "              style=\"display:none;\">\n",
              "        \n",
              "  <svg xmlns=\"http://www.w3.org/2000/svg\" height=\"24px\"viewBox=\"0 0 24 24\"\n",
              "       width=\"24px\">\n",
              "    <path d=\"M0 0h24v24H0V0z\" fill=\"none\"/>\n",
              "    <path d=\"M18.56 5.44l.94 2.06.94-2.06 2.06-.94-2.06-.94-.94-2.06-.94 2.06-2.06.94zm-11 1L8.5 8.5l.94-2.06 2.06-.94-2.06-.94L8.5 2.5l-.94 2.06-2.06.94zm10 10l.94 2.06.94-2.06 2.06-.94-2.06-.94-.94-2.06-.94 2.06-2.06.94z\"/><path d=\"M17.41 7.96l-1.37-1.37c-.4-.4-.92-.59-1.43-.59-.52 0-1.04.2-1.43.59L10.3 9.45l-7.72 7.72c-.78.78-.78 2.05 0 2.83L4 21.41c.39.39.9.59 1.41.59.51 0 1.02-.2 1.41-.59l7.78-7.78 2.81-2.81c.8-.78.8-2.07 0-2.86zM5.41 20L4 18.59l7.72-7.72 1.47 1.35L5.41 20z\"/>\n",
              "  </svg>\n",
              "      </button>\n",
              "      \n",
              "  <style>\n",
              "    .colab-df-container {\n",
              "      display:flex;\n",
              "      flex-wrap:wrap;\n",
              "      gap: 12px;\n",
              "    }\n",
              "\n",
              "    .colab-df-convert {\n",
              "      background-color: #E8F0FE;\n",
              "      border: none;\n",
              "      border-radius: 50%;\n",
              "      cursor: pointer;\n",
              "      display: none;\n",
              "      fill: #1967D2;\n",
              "      height: 32px;\n",
              "      padding: 0 0 0 0;\n",
              "      width: 32px;\n",
              "    }\n",
              "\n",
              "    .colab-df-convert:hover {\n",
              "      background-color: #E2EBFA;\n",
              "      box-shadow: 0px 1px 2px rgba(60, 64, 67, 0.3), 0px 1px 3px 1px rgba(60, 64, 67, 0.15);\n",
              "      fill: #174EA6;\n",
              "    }\n",
              "\n",
              "    [theme=dark] .colab-df-convert {\n",
              "      background-color: #3B4455;\n",
              "      fill: #D2E3FC;\n",
              "    }\n",
              "\n",
              "    [theme=dark] .colab-df-convert:hover {\n",
              "      background-color: #434B5C;\n",
              "      box-shadow: 0px 1px 3px 1px rgba(0, 0, 0, 0.15);\n",
              "      filter: drop-shadow(0px 1px 2px rgba(0, 0, 0, 0.3));\n",
              "      fill: #FFFFFF;\n",
              "    }\n",
              "  </style>\n",
              "\n",
              "      <script>\n",
              "        const buttonEl =\n",
              "          document.querySelector('#df-dc8c512b-abb2-49e2-bda0-8e288c78b315 button.colab-df-convert');\n",
              "        buttonEl.style.display =\n",
              "          google.colab.kernel.accessAllowed ? 'block' : 'none';\n",
              "\n",
              "        async function convertToInteractive(key) {\n",
              "          const element = document.querySelector('#df-dc8c512b-abb2-49e2-bda0-8e288c78b315');\n",
              "          const dataTable =\n",
              "            await google.colab.kernel.invokeFunction('convertToInteractive',\n",
              "                                                     [key], {});\n",
              "          if (!dataTable) return;\n",
              "\n",
              "          const docLinkHtml = 'Like what you see? Visit the ' +\n",
              "            '<a target=\"_blank\" href=https://colab.research.google.com/notebooks/data_table.ipynb>data table notebook</a>'\n",
              "            + ' to learn more about interactive tables.';\n",
              "          element.innerHTML = '';\n",
              "          dataTable['output_type'] = 'display_data';\n",
              "          await google.colab.output.renderOutput(dataTable, element);\n",
              "          const docLink = document.createElement('div');\n",
              "          docLink.innerHTML = docLinkHtml;\n",
              "          element.appendChild(docLink);\n",
              "        }\n",
              "      </script>\n",
              "    </div>\n",
              "  </div>\n",
              "  "
            ]
          },
          "metadata": {},
          "execution_count": 27
        }
      ]
    },
    {
      "cell_type": "code",
      "source": [
        "import seaborn as sns\n",
        "plt.figure(figsize = (20,20))\n",
        "sns.heatmap(data.corr(), annot = True, fmt=\".2f\",linewidths=0.5)"
      ],
      "metadata": {
        "colab": {
          "base_uri": "https://localhost:8080/",
          "height": 1000
        },
        "id": "cyb-lohNHETh",
        "outputId": "571d073a-f2e6-41dd-dca7-4f4d315db48a"
      },
      "execution_count": null,
      "outputs": [
        {
          "output_type": "execute_result",
          "data": {
            "text/plain": [
              "<matplotlib.axes._subplots.AxesSubplot at 0x7f57033222e0>"
            ]
          },
          "metadata": {},
          "execution_count": 28
        },
        {
          "output_type": "display_data",
          "data": {
            "text/plain": [
              "<Figure size 1440x1440 with 2 Axes>"
            ],
            "image/png": "[encoded data removed]"
          },
          "metadata": {
            "needs_background": "light"
          }
        }
      ]
    },
    {
      "cell_type": "code",
      "source": [
        "data.corr()"
      ],
      "metadata": {
        "colab": {
          "base_uri": "https://localhost:8080/",
          "height": 442
        },
        "id": "XOYBWmgjHOWj",
        "outputId": "0d09a924-2a1c-4126-e477-d9d04c099b40"
      },
      "execution_count": null,
      "outputs": [
        {
          "output_type": "execute_result",
          "data": {
            "text/plain": [
              "                    stu_id  AVERAGE_TIME  GADGETS_USED      YEAR      CGPA  \\\n",
              "stu_id            1.000000     -0.074820      0.085215 -0.040493  0.044071   \n",
              "AVERAGE_TIME     -0.074820      1.000000      0.338072  0.278241  0.574951   \n",
              "GADGETS_USED      0.085215      0.338072      1.000000  0.299114  0.262763   \n",
              "YEAR             -0.040493      0.278241      0.299114  1.000000  0.087296   \n",
              "CGPA              0.044071      0.574951      0.262763  0.087296  1.000000   \n",
              "AFFECT ACADEMICS  0.006442     -0.441912     -0.119597  0.004302 -0.529932   \n",
              "PURPOSE           0.051093      0.312054      0.023958  0.011644  0.395487   \n",
              "SEX               0.025072     -0.027221      0.179234 -0.090822  0.124954   \n",
              "TRAVEL TIME       0.015140     -0.016022      0.049811 -0.097742  0.100724   \n",
              "EXTRA_COURSES    -0.002498     -0.008306      0.020660  0.042210  0.119125   \n",
              "\n",
              "                  AFFECT ACADEMICS   PURPOSE       SEX  TRAVEL TIME  \\\n",
              "stu_id                    0.006442  0.051093  0.025072     0.015140   \n",
              "AVERAGE_TIME             -0.441912  0.312054 -0.027221    -0.016022   \n",
              "GADGETS_USED             -0.119597  0.023958  0.179234     0.049811   \n",
              "YEAR                      0.004302  0.011644 -0.090822    -0.097742   \n",
              "CGPA                     -0.529932  0.395487  0.124954     0.100724   \n",
              "AFFECT ACADEMICS          1.000000 -0.575724 -0.120567    -0.084754   \n",
              "PURPOSE                  -0.575724  1.000000  0.138074     0.117976   \n",
              "SEX                      -0.120567  0.138074  1.000000     0.054820   \n",
              "TRAVEL TIME              -0.084754  0.117976  0.054820     1.000000   \n",
              "EXTRA_COURSES            -0.038913  0.017825 -0.021517     0.052893   \n",
              "\n",
              "                  EXTRA_COURSES  \n",
              "stu_id                -0.002498  \n",
              "AVERAGE_TIME          -0.008306  \n",
              "GADGETS_USED           0.020660  \n",
              "YEAR                   0.042210  \n",
              "CGPA                   0.119125  \n",
              "AFFECT ACADEMICS      -0.038913  \n",
              "PURPOSE                0.017825  \n",
              "SEX                   -0.021517  \n",
              "TRAVEL TIME            0.052893  \n",
              "EXTRA_COURSES          1.000000  "
            ],
            "text/html": [
              "\n",
              "  <div id=\"df-b91e6f37-237b-4f02-ace9-43255a4b3905\">\n",
              "    <div class=\"colab-df-container\">\n",
              "      <div>\n",
              "<style scoped>\n",
              "    .dataframe tbody tr th:only-of-type {\n",
              "        vertical-align: middle;\n",
              "    }\n",
              "\n",
              "    .dataframe tbody tr th {\n",
              "        vertical-align: top;\n",
              "    }\n",
              "\n",
              "    .dataframe thead th {\n",
              "        text-align: right;\n",
              "    }\n",
              "</style>\n",
              "<table border=\"1\" class=\"dataframe\">\n",
              "  <thead>\n",
              "    <tr style=\"text-align: right;\">\n",
              "      <th></th>\n",
              "      <th>stu_id</th>\n",
              "      <th>AVERAGE_TIME</th>\n",
              "      <th>GADGETS_USED</th>\n",
              "      <th>YEAR</th>\n",
              "      <th>CGPA</th>\n",
              "      <th>AFFECT ACADEMICS</th>\n",
              "      <th>PURPOSE</th>\n",
              "      <th>SEX</th>\n",
              "      <th>TRAVEL TIME</th>\n",
              "      <th>EXTRA_COURSES</th>\n",
              "    </tr>\n",
              "  </thead>\n",
              "  <tbody>\n",
              "    <tr>\n",
              "      <th>stu_id</th>\n",
              "      <td>1.000000</td>\n",
              "      <td>-0.074820</td>\n",
              "      <td>0.085215</td>\n",
              "      <td>-0.040493</td>\n",
              "      <td>0.044071</td>\n",
              "      <td>0.006442</td>\n",
              "      <td>0.051093</td>\n",
              "      <td>0.025072</td>\n",
              "      <td>0.015140</td>\n",
              "      <td>-0.002498</td>\n",
              "    </tr>\n",
              "    <tr>\n",
              "      <th>AVERAGE_TIME</th>\n",
              "      <td>-0.074820</td>\n",
              "      <td>1.000000</td>\n",
              "      <td>0.338072</td>\n",
              "      <td>0.278241</td>\n",
              "      <td>0.574951</td>\n",
              "      <td>-0.441912</td>\n",
              "      <td>0.312054</td>\n",
              "      <td>-0.027221</td>\n",
              "      <td>-0.016022</td>\n",
              "      <td>-0.008306</td>\n",
              "    </tr>\n",
              "    <tr>\n",
              "      <th>GADGETS_USED</th>\n",
              "      <td>0.085215</td>\n",
              "      <td>0.338072</td>\n",
              "      <td>1.000000</td>\n",
              "      <td>0.299114</td>\n",
              "      <td>0.262763</td>\n",
              "      <td>-0.119597</td>\n",
              "      <td>0.023958</td>\n",
              "      <td>0.179234</td>\n",
              "      <td>0.049811</td>\n",
              "      <td>0.020660</td>\n",
              "    </tr>\n",
              "    <tr>\n",
              "      <th>YEAR</th>\n",
              "      <td>-0.040493</td>\n",
              "      <td>0.278241</td>\n",
              "      <td>0.299114</td>\n",
              "      <td>1.000000</td>\n",
              "      <td>0.087296</td>\n",
              "      <td>0.004302</td>\n",
              "      <td>0.011644</td>\n",
              "      <td>-0.090822</td>\n",
              "      <td>-0.097742</td>\n",
              "      <td>0.042210</td>\n",
              "    </tr>\n",
              "    <tr>\n",
              "      <th>CGPA</th>\n",
              "      <td>0.044071</td>\n",
              "      <td>0.574951</td>\n",
              "      <td>0.262763</td>\n",
              "      <td>0.087296</td>\n",
              "      <td>1.000000</td>\n",
              "      <td>-0.529932</td>\n",
              "      <td>0.395487</td>\n",
              "      <td>0.124954</td>\n",
              "      <td>0.100724</td>\n",
              "      <td>0.119125</td>\n",
              "    </tr>\n",
              "    <tr>\n",
              "      <th>AFFECT ACADEMICS</th>\n",
              "      <td>0.006442</td>\n",
              "      <td>-0.441912</td>\n",
              "      <td>-0.119597</td>\n",
              "      <td>0.004302</td>\n",
              "      <td>-0.529932</td>\n",
              "      <td>1.000000</td>\n",
              "      <td>-0.575724</td>\n",
              "      <td>-0.120567</td>\n",
              "      <td>-0.084754</td>\n",
              "      <td>-0.038913</td>\n",
              "    </tr>\n",
              "    <tr>\n",
              "      <th>PURPOSE</th>\n",
              "      <td>0.051093</td>\n",
              "      <td>0.312054</td>\n",
              "      <td>0.023958</td>\n",
              "      <td>0.011644</td>\n",
              "      <td>0.395487</td>\n",
              "      <td>-0.575724</td>\n",
              "      <td>1.000000</td>\n",
              "      <td>0.138074</td>\n",
              "      <td>0.117976</td>\n",
              "      <td>0.017825</td>\n",
              "    </tr>\n",
              "    <tr>\n",
              "      <th>SEX</th>\n",
              "      <td>0.025072</td>\n",
              "      <td>-0.027221</td>\n",
              "      <td>0.179234</td>\n",
              "      <td>-0.090822</td>\n",
              "      <td>0.124954</td>\n",
              "      <td>-0.120567</td>\n",
              "      <td>0.138074</td>\n",
              "      <td>1.000000</td>\n",
              "      <td>0.054820</td>\n",
              "      <td>-0.021517</td>\n",
              "    </tr>\n",
              "    <tr>\n",
              "      <th>TRAVEL TIME</th>\n",
              "      <td>0.015140</td>\n",
              "      <td>-0.016022</td>\n",
              "      <td>0.049811</td>\n",
              "      <td>-0.097742</td>\n",
              "      <td>0.100724</td>\n",
              "      <td>-0.084754</td>\n",
              "      <td>0.117976</td>\n",
              "      <td>0.054820</td>\n",
              "      <td>1.000000</td>\n",
              "      <td>0.052893</td>\n",
              "    </tr>\n",
              "    <tr>\n",
              "      <th>EXTRA_COURSES</th>\n",
              "      <td>-0.002498</td>\n",
              "      <td>-0.008306</td>\n",
              "      <td>0.020660</td>\n",
              "      <td>0.042210</td>\n",
              "      <td>0.119125</td>\n",
              "      <td>-0.038913</td>\n",
              "      <td>0.017825</td>\n",
              "      <td>-0.021517</td>\n",
              "      <td>0.052893</td>\n",
              "      <td>1.000000</td>\n",
              "    </tr>\n",
              "  </tbody>\n",
              "</table>\n",
              "</div>\n",
              "      <button class=\"colab-df-convert\" onclick=\"convertToInteractive('df-b91e6f37-237b-4f02-ace9-43255a4b3905')\"\n",
              "              title=\"Convert this dataframe to an interactive table.\"\n",
              "              style=\"display:none;\">\n",
              "        \n",
              "  <svg xmlns=\"http://www.w3.org/2000/svg\" height=\"24px\"viewBox=\"0 0 24 24\"\n",
              "       width=\"24px\">\n",
              "    <path d=\"M0 0h24v24H0V0z\" fill=\"none\"/>\n",
              "    <path d=\"M18.56 5.44l.94 2.06.94-2.06 2.06-.94-2.06-.94-.94-2.06-.94 2.06-2.06.94zm-11 1L8.5 8.5l.94-2.06 2.06-.94-2.06-.94L8.5 2.5l-.94 2.06-2.06.94zm10 10l.94 2.06.94-2.06 2.06-.94-2.06-.94-.94-2.06-.94 2.06-2.06.94z\"/><path d=\"M17.41 7.96l-1.37-1.37c-.4-.4-.92-.59-1.43-.59-.52 0-1.04.2-1.43.59L10.3 9.45l-7.72 7.72c-.78.78-.78 2.05 0 2.83L4 21.41c.39.39.9.59 1.41.59.51 0 1.02-.2 1.41-.59l7.78-7.78 2.81-2.81c.8-.78.8-2.07 0-2.86zM5.41 20L4 18.59l7.72-7.72 1.47 1.35L5.41 20z\"/>\n",
              "  </svg>\n",
              "      </button>\n",
              "      \n",
              "  <style>\n",
              "    .colab-df-container {\n",
              "      display:flex;\n",
              "      flex-wrap:wrap;\n",
              "      gap: 12px;\n",
              "    }\n",
              "\n",
              "    .colab-df-convert {\n",
              "      background-color: #E8F0FE;\n",
              "      border: none;\n",
              "      border-radius: 50%;\n",
              "      cursor: pointer;\n",
              "      display: none;\n",
              "      fill: #1967D2;\n",
              "      height: 32px;\n",
              "      padding: 0 0 0 0;\n",
              "      width: 32px;\n",
              "    }\n",
              "\n",
              "    .colab-df-convert:hover {\n",
              "      background-color: #E2EBFA;\n",
              "      box-shadow: 0px 1px 2px rgba(60, 64, 67, 0.3), 0px 1px 3px 1px rgba(60, 64, 67, 0.15);\n",
              "      fill: #174EA6;\n",
              "    }\n",
              "\n",
              "    [theme=dark] .colab-df-convert {\n",
              "      background-color: #3B4455;\n",
              "      fill: #D2E3FC;\n",
              "    }\n",
              "\n",
              "    [theme=dark] .colab-df-convert:hover {\n",
              "      background-color: #434B5C;\n",
              "      box-shadow: 0px 1px 3px 1px rgba(0, 0, 0, 0.15);\n",
              "      filter: drop-shadow(0px 1px 2px rgba(0, 0, 0, 0.3));\n",
              "      fill: #FFFFFF;\n",
              "    }\n",
              "  </style>\n",
              "\n",
              "      <script>\n",
              "        const buttonEl =\n",
              "          document.querySelector('#df-b91e6f37-237b-4f02-ace9-43255a4b3905 button.colab-df-convert');\n",
              "        buttonEl.style.display =\n",
              "          google.colab.kernel.accessAllowed ? 'block' : 'none';\n",
              "\n",
              "        async function convertToInteractive(key) {\n",
              "          const element = document.querySelector('#df-b91e6f37-237b-4f02-ace9-43255a4b3905');\n",
              "          const dataTable =\n",
              "            await google.colab.kernel.invokeFunction('convertToInteractive',\n",
              "                                                     [key], {});\n",
              "          if (!dataTable) return;\n",
              "\n",
              "          const docLinkHtml = 'Like what you see? Visit the ' +\n",
              "            '<a target=\"_blank\" href=https://colab.research.google.com/notebooks/data_table.ipynb>data table notebook</a>'\n",
              "            + ' to learn more about interactive tables.';\n",
              "          element.innerHTML = '';\n",
              "          dataTable['output_type'] = 'display_data';\n",
              "          await google.colab.output.renderOutput(dataTable, element);\n",
              "          const docLink = document.createElement('div');\n",
              "          docLink.innerHTML = docLinkHtml;\n",
              "          element.appendChild(docLink);\n",
              "        }\n",
              "      </script>\n",
              "    </div>\n",
              "  </div>\n",
              "  "
            ]
          },
          "metadata": {},
          "execution_count": 29
        }
      ]
    },
    {
      "cell_type": "code",
      "source": [
        "X=data.drop(['AFFECT ACADEMICS','stu_id','YEAR','TRAVEL TIME'], axis=1)\n",
        "Y=data['AFFECT ACADEMICS']"
      ],
      "metadata": {
        "id": "Lzq7_0XdH3y4"
      },
      "execution_count": null,
      "outputs": []
    },
    {
      "cell_type": "code",
      "source": [
        "X.columns"
      ],
      "metadata": {
        "colab": {
          "base_uri": "https://localhost:8080/"
        },
        "id": "N6FwwAckImf3",
        "outputId": "bb22b5c4-7a6e-46ee-a0e7-ee7397ad641d"
      },
      "execution_count": null,
      "outputs": [
        {
          "output_type": "execute_result",
          "data": {
            "text/plain": [
              "Index(['AVERAGE_TIME', 'GADGETS_USED', 'CGPA', 'PURPOSE', 'SEX',\n",
              "       'EXTRA_COURSES'],\n",
              "      dtype='object')"
            ]
          },
          "metadata": {},
          "execution_count": 31
        }
      ]
    },
    {
      "cell_type": "code",
      "source": [
        "from sklearn.linear_model import LogisticRegression\n",
        "from sklearn.svm import SVC, LinearSVC\n",
        "from sklearn.ensemble import RandomForestClassifier\n",
        "\n",
        "from sklearn.metrics import classification_report, confusion_matrix"
      ],
      "metadata": {
        "id": "HdBnDeMwIt0S"
      },
      "execution_count": null,
      "outputs": []
    },
    {
      "cell_type": "code",
      "source": [
        "from sklearn.model_selection import train_test_split"
      ],
      "metadata": {
        "id": "XUqFd_ETJPcg"
      },
      "execution_count": null,
      "outputs": []
    },
    {
      "cell_type": "code",
      "source": [
        "from sklearn.svm import SVC\n",
        "from sklearn import svm"
      ],
      "metadata": {
        "id": "kJcohmZ7JSpy"
      },
      "execution_count": null,
      "outputs": []
    },
    {
      "cell_type": "code",
      "source": [
        "X_train, X_test, Y_train, Y_test = train_test_split(X, Y, test_size = 0.8, random_state = 42)"
      ],
      "metadata": {
        "id": "1EpkksIkJU74"
      },
      "execution_count": null,
      "outputs": []
    },
    {
      "cell_type": "code",
      "source": [
        "from sklearn.metrics import confusion_matrix, accuracy_score"
      ],
      "metadata": {
        "id": "0dWTrA08JcpW"
      },
      "execution_count": null,
      "outputs": []
    },
    {
      "cell_type": "code",
      "source": [
        "random_forest = RandomForestClassifier(n_estimators=100)\n",
        "random_forest.fit(X_train, Y_train)\n",
        "rf_predicted = random_forest.predict(X_test)\n",
        "\n",
        "random_forest_score = round(random_forest.score(X_train, Y_train) * 100, 2)\n",
        "random_forest_score_test = round(random_forest.score(X_test, Y_test) * 100, 2)\n",
        "print('Random Forest Score: \\n', random_forest_score)\n",
        "print('Random Forest Test Score: \\n', random_forest_score_test)\n",
        "print('Accuracy: \\n', accuracy_score(Y_test,rf_predicted))\n",
        "print(confusion_matrix(Y_test,rf_predicted))\n",
        "print(classification_report(Y_test,rf_predicted))"
      ],
      "metadata": {
        "colab": {
          "base_uri": "https://localhost:8080/"
        },
        "id": "EUhTZ2zfJffR",
        "outputId": "b91ba5d1-5ee7-49c3-ae30-ac08ecbe7cf7"
      },
      "execution_count": null,
      "outputs": [
        {
          "output_type": "stream",
          "name": "stdout",
          "text": [
            "Random Forest Score: \n",
            " 92.11\n",
            "Random Forest Test Score: \n",
            " 78.29\n",
            "Accuracy: \n",
            " 0.7828947368421053\n",
            "[[58 23]\n",
            " [10 61]]\n",
            "              precision    recall  f1-score   support\n",
            "\n",
            "           0       0.85      0.72      0.78        81\n",
            "           1       0.73      0.86      0.79        71\n",
            "\n",
            "    accuracy                           0.78       152\n",
            "   macro avg       0.79      0.79      0.78       152\n",
            "weighted avg       0.79      0.78      0.78       152\n",
            "\n"
          ]
        }
      ]
    },
    {
      "cell_type": "code",
      "source": [
        "logreg = LogisticRegression()\n",
        "logreg.fit(X_train, Y_train)\n",
        "log_predicted= logreg.predict(X_test)\n",
        "logreg_score = round(logreg.score(X_train, Y_train) * 100, 2)\n",
        "logreg_score_test = round(logreg.score(X_test, Y_test) * 100, 2)\n",
        "print('Logistic Regression Training Score: \\n', logreg_score)\n",
        "print('Logistic Regression Test Score: \\n', logreg_score_test)\n",
        "print('Accuracy: \\n', accuracy_score(Y_test,log_predicted))\n",
        "print('Confusion Matrix: \\n', confusion_matrix(Y_test,log_predicted))\n",
        "print('Classification Report: \\n', classification_report(Y_test,log_predicted))"
      ],
      "metadata": {
        "colab": {
          "base_uri": "https://localhost:8080/"
        },
        "id": "0R5xldOEJr1u",
        "outputId": "94fc2a29-9855-45fd-df01-ed8fff78bfbb"
      },
      "execution_count": null,
      "outputs": [
        {
          "output_type": "stream",
          "name": "stdout",
          "text": [
            "Logistic Regression Training Score: \n",
            " 86.84\n",
            "Logistic Regression Test Score: \n",
            " 79.61\n",
            "Accuracy: \n",
            " 0.7960526315789473\n",
            "Confusion Matrix: \n",
            " [[62 19]\n",
            " [12 59]]\n",
            "Classification Report: \n",
            "               precision    recall  f1-score   support\n",
            "\n",
            "           0       0.84      0.77      0.80        81\n",
            "           1       0.76      0.83      0.79        71\n",
            "\n",
            "    accuracy                           0.80       152\n",
            "   macro avg       0.80      0.80      0.80       152\n",
            "weighted avg       0.80      0.80      0.80       152\n",
            "\n"
          ]
        }
      ]
    },
    {
      "cell_type": "code",
      "source": [
        "svm_model = svm.SVC(kernel='linear')\n",
        "svm_model.fit(X_train, Y_train)\n",
        "svm_model_score = round(svm_model.score(X_train, Y_train) * 100, 2)\n",
        "Y_predict = svm_model.predict(X_test)\n",
        "svm_accuracy = accuracy_score(Y_test,Y_predict)*100\n",
        "print(\"Accuracy:\",svm_accuracy)\n",
        "cm = confusion_matrix(Y_test,Y_predict)\n",
        "print(\"Confusion Matrix is :\", cm)"
      ],
      "metadata": {
        "colab": {
          "base_uri": "https://localhost:8080/"
        },
        "id": "Da0kITvCKSBg",
        "outputId": "5e31aca4-f298-4663-ffa0-65c5817b5d0e"
      },
      "execution_count": null,
      "outputs": [
        {
          "output_type": "stream",
          "name": "stdout",
          "text": [
            "Accuracy: 80.92105263157895\n",
            "Confusion Matrix is : [[64 17]\n",
            " [12 59]]\n"
          ]
        }
      ]
    },
    {
      "cell_type": "code",
      "source": [
        "from sklearn.neighbors import KNeighborsClassifier"
      ],
      "metadata": {
        "id": "OYaHVnj3MZl3"
      },
      "execution_count": null,
      "outputs": []
    },
    {
      "cell_type": "code",
      "source": [
        "from sklearn.model_selection import GridSearchCV, train_test_split, cross_val_score\n",
        "knn = KNeighborsClassifier()\n",
        "\n",
        "params = {\n",
        "    \"n_neighbors\":[3,5,7,9],\n",
        "    \"weights\":[\"uniform\",\"distance\"],\n",
        "    \"algorithm\":[\"ball_tree\",\"kd_tree\",\"brute\"],\n",
        "    \"leaf_size\":[25,30,35],\n",
        "    \"p\":[1,2]\n",
        "}\n",
        "\n",
        "gs = GridSearchCV(knn, param_grid=params)\n",
        "knn_model = gs.fit(X_train,Y_train)\n",
        "\n",
        "knn_model_score = round(knn_model.score(X_train, Y_train) * 100, 2)\n",
        "Y_predict = knn_model.predict(X_test)\n",
        "knn_accuracy = accuracy_score(Y_test,Y_predict)*100\n",
        "print(\"Accuracy:\",knn_accuracy)\n",
        "cm = confusion_matrix(Y_test,Y_predict)\n",
        "print(\"Confusion Matrix is :\", cm)"
      ],
      "metadata": {
        "colab": {
          "base_uri": "https://localhost:8080/"
        },
        "id": "Z5EkHqUbK5xq",
        "outputId": "08e8e892-cf91-4a8a-9476-65609d4c37d1"
      },
      "execution_count": null,
      "outputs": [
        {
          "output_type": "stream",
          "name": "stdout",
          "text": [
            "Accuracy: 78.28947368421053\n",
            "Confusion Matrix is : [[65 16]\n",
            " [17 54]]\n"
          ]
        }
      ]
    },
    {
      "cell_type": "code",
      "source": [
        "models = pd.DataFrame({\n",
        "    'Model': [ 'Logistic Regression','Random Forest','SVM Model', 'KNN'],\n",
        "    'Score': [ logreg_score, random_forest_score,svm_model_score,knn_model_score],\n",
        "    'Test Score': [ logreg_score_test,random_forest_score_test,svm_accuracy,knn_accuracy]})\n",
        "models.sort_values(by='Test Score', ascending=False)"
      ],
      "metadata": {
        "colab": {
          "base_uri": "https://localhost:8080/",
          "height": 175
        },
        "id": "ybbPHCHQLtFk",
        "outputId": "7c397a5f-e989-4b96-cc2a-13ac3728498f"
      },
      "execution_count": null,
      "outputs": [
        {
          "output_type": "execute_result",
          "data": {
            "text/plain": [
              "                 Model  Score  Test Score\n",
              "2            SVM Model  86.84   80.921053\n",
              "0  Logistic Regression  86.84   79.610000\n",
              "1        Random Forest  92.11   78.290000\n",
              "3                  KNN  86.84   78.289474"
            ],
            "text/html": [
              "\n",
              "  <div id=\"df-6922a7cd-2f9d-404c-91a9-c2a8bbc5ecd8\">\n",
              "    <div class=\"colab-df-container\">\n",
              "      <div>\n",
              "<style scoped>\n",
              "    .dataframe tbody tr th:only-of-type {\n",
              "        vertical-align: middle;\n",
              "    }\n",
              "\n",
              "    .dataframe tbody tr th {\n",
              "        vertical-align: top;\n",
              "    }\n",
              "\n",
              "    .dataframe thead th {\n",
              "        text-align: right;\n",
              "    }\n",
              "</style>\n",
              "<table border=\"1\" class=\"dataframe\">\n",
              "  <thead>\n",
              "    <tr style=\"text-align: right;\">\n",
              "      <th></th>\n",
              "      <th>Model</th>\n",
              "      <th>Score</th>\n",
              "      <th>Test Score</th>\n",
              "    </tr>\n",
              "  </thead>\n",
              "  <tbody>\n",
              "    <tr>\n",
              "      <th>2</th>\n",
              "      <td>SVM Model</td>\n",
              "      <td>86.84</td>\n",
              "      <td>80.921053</td>\n",
              "    </tr>\n",
              "    <tr>\n",
              "      <th>0</th>\n",
              "      <td>Logistic Regression</td>\n",
              "      <td>86.84</td>\n",
              "      <td>79.610000</td>\n",
              "    </tr>\n",
              "    <tr>\n",
              "      <th>1</th>\n",
              "      <td>Random Forest</td>\n",
              "      <td>92.11</td>\n",
              "      <td>78.290000</td>\n",
              "    </tr>\n",
              "    <tr>\n",
              "      <th>3</th>\n",
              "      <td>KNN</td>\n",
              "      <td>86.84</td>\n",
              "      <td>78.289474</td>\n",
              "    </tr>\n",
              "  </tbody>\n",
              "</table>\n",
              "</div>\n",
              "      <button class=\"colab-df-convert\" onclick=\"convertToInteractive('df-6922a7cd-2f9d-404c-91a9-c2a8bbc5ecd8')\"\n",
              "              title=\"Convert this dataframe to an interactive table.\"\n",
              "              style=\"display:none;\">\n",
              "        \n",
              "  <svg xmlns=\"http://www.w3.org/2000/svg\" height=\"24px\"viewBox=\"0 0 24 24\"\n",
              "       width=\"24px\">\n",
              "    <path d=\"M0 0h24v24H0V0z\" fill=\"none\"/>\n",
              "    <path d=\"M18.56 5.44l.94 2.06.94-2.06 2.06-.94-2.06-.94-.94-2.06-.94 2.06-2.06.94zm-11 1L8.5 8.5l.94-2.06 2.06-.94-2.06-.94L8.5 2.5l-.94 2.06-2.06.94zm10 10l.94 2.06.94-2.06 2.06-.94-2.06-.94-.94-2.06-.94 2.06-2.06.94z\"/><path d=\"M17.41 7.96l-1.37-1.37c-.4-.4-.92-.59-1.43-.59-.52 0-1.04.2-1.43.59L10.3 9.45l-7.72 7.72c-.78.78-.78 2.05 0 2.83L4 21.41c.39.39.9.59 1.41.59.51 0 1.02-.2 1.41-.59l7.78-7.78 2.81-2.81c.8-.78.8-2.07 0-2.86zM5.41 20L4 18.59l7.72-7.72 1.47 1.35L5.41 20z\"/>\n",
              "  </svg>\n",
              "      </button>\n",
              "      \n",
              "  <style>\n",
              "    .colab-df-container {\n",
              "      display:flex;\n",
              "      flex-wrap:wrap;\n",
              "      gap: 12px;\n",
              "    }\n",
              "\n",
              "    .colab-df-convert {\n",
              "      background-color: #E8F0FE;\n",
              "      border: none;\n",
              "      border-radius: 50%;\n",
              "      cursor: pointer;\n",
              "      display: none;\n",
              "      fill: #1967D2;\n",
              "      height: 32px;\n",
              "      padding: 0 0 0 0;\n",
              "      width: 32px;\n",
              "    }\n",
              "\n",
              "    .colab-df-convert:hover {\n",
              "      background-color: #E2EBFA;\n",
              "      box-shadow: 0px 1px 2px rgba(60, 64, 67, 0.3), 0px 1px 3px 1px rgba(60, 64, 67, 0.15);\n",
              "      fill: #174EA6;\n",
              "    }\n",
              "\n",
              "    [theme=dark] .colab-df-convert {\n",
              "      background-color: #3B4455;\n",
              "      fill: #D2E3FC;\n",
              "    }\n",
              "\n",
              "    [theme=dark] .colab-df-convert:hover {\n",
              "      background-color: #434B5C;\n",
              "      box-shadow: 0px 1px 3px 1px rgba(0, 0, 0, 0.15);\n",
              "      filter: drop-shadow(0px 1px 2px rgba(0, 0, 0, 0.3));\n",
              "      fill: #FFFFFF;\n",
              "    }\n",
              "  </style>\n",
              "\n",
              "      <script>\n",
              "        const buttonEl =\n",
              "          document.querySelector('#df-6922a7cd-2f9d-404c-91a9-c2a8bbc5ecd8 button.colab-df-convert');\n",
              "        buttonEl.style.display =\n",
              "          google.colab.kernel.accessAllowed ? 'block' : 'none';\n",
              "\n",
              "        async function convertToInteractive(key) {\n",
              "          const element = document.querySelector('#df-6922a7cd-2f9d-404c-91a9-c2a8bbc5ecd8');\n",
              "          const dataTable =\n",
              "            await google.colab.kernel.invokeFunction('convertToInteractive',\n",
              "                                                     [key], {});\n",
              "          if (!dataTable) return;\n",
              "\n",
              "          const docLinkHtml = 'Like what you see? Visit the ' +\n",
              "            '<a target=\"_blank\" href=https://colab.research.google.com/notebooks/data_table.ipynb>data table notebook</a>'\n",
              "            + ' to learn more about interactive tables.';\n",
              "          element.innerHTML = '';\n",
              "          dataTable['output_type'] = 'display_data';\n",
              "          await google.colab.output.renderOutput(dataTable, element);\n",
              "          const docLink = document.createElement('div');\n",
              "          docLink.innerHTML = docLinkHtml;\n",
              "          element.appendChild(docLink);\n",
              "        }\n",
              "      </script>\n",
              "    </div>\n",
              "  </div>\n",
              "  "
            ]
          },
          "metadata": {},
          "execution_count": 43
        }
      ]
    },
    {
      "cell_type": "code",
      "source": [],
      "metadata": {
        "id": "x3n9x88ONNoY"
      },
      "execution_count": null,
      "outputs": []
    }
  ]
}